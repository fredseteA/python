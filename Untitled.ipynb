{
 "cells": [
  {
   "cell_type": "code",
   "execution_count": 5,
   "id": "b35cfa00",
   "metadata": {},
   "outputs": [],
   "source": [
    "class Pessoa():\n",
    "\n",
    "    def andar(self):\n",
    "        print(\"estou andando\")\n",
    "    def comer(self):\n",
    "        print(\"estou comendo\")\n",
    "    def falar(self):\n",
    "        print(\"eu estou falando\")\n",
    "    \n",
    "class Homem(Pessoa):\n",
    "    def oQueSou(self):\n",
    "        print(\"homem\")\n",
    "    def falar(self):\n",
    "        print(\"eu falo\")\n",
    "        \n",
    "class Mulher(Pessoa):\n",
    "    def oQueSou(self):\n",
    "        print(\"mulher\")\n",
    "    def lavar(self):\n",
    "        print(\"lavo roupa\")"
   ]
  },
  {
   "cell_type": "code",
   "execution_count": 18,
   "id": "cf4e2e8a",
   "metadata": {},
   "outputs": [
    {
     "name": "stdout",
     "output_type": "stream",
     "text": [
      "eu estou falando\n"
     ]
    }
   ],
   "source": [
    "p = Pessoa()\n",
    "p.falar()"
   ]
  },
  {
   "cell_type": "code",
   "execution_count": 19,
   "id": "01e96939",
   "metadata": {},
   "outputs": [
    {
     "name": "stdout",
     "output_type": "stream",
     "text": [
      "lavo roupa\n"
     ]
    }
   ],
   "source": [
    "m = Mulher()\n",
    "m.lavar()"
   ]
  },
  {
   "cell_type": "code",
   "execution_count": 21,
   "id": "6e9f018d",
   "metadata": {},
   "outputs": [
    {
     "name": "stdout",
     "output_type": "stream",
     "text": [
      "eu falo\n",
      "estou comendo\n"
     ]
    }
   ],
   "source": [
    "h = Homem()\n",
    "h.falar()\n",
    "h.comer()"
   ]
  }
 ],
 "metadata": {
  "kernelspec": {
   "display_name": "Python 3 (ipykernel)",
   "language": "python",
   "name": "python3"
  },
  "language_info": {
   "codemirror_mode": {
    "name": "ipython",
    "version": 3
   },
   "file_extension": ".py",
   "mimetype": "text/x-python",
   "name": "python",
   "nbconvert_exporter": "python",
   "pygments_lexer": "ipython3",
   "version": "3.9.7"
  }
 },
 "nbformat": 4,
 "nbformat_minor": 5
}
